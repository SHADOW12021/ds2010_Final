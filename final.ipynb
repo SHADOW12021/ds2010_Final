{
 "cells": [
  {
   "cell_type": "code",
   "execution_count": 8,
   "metadata": {},
   "outputs": [],
   "source": [
    "import pandas as pd  \n",
    "import kagglehub"
   ]
  },
  {
   "cell_type": "code",
   "execution_count": 9,
   "metadata": {},
   "outputs": [
    {
     "name": "stdout",
     "output_type": "stream",
     "text": [
      "Warning: Looks like you're using an outdated `kagglehub` version, please consider updating (latest version: 0.3.8)\n",
      "Path to dataset files: C:\\Users\\gsocc\\.cache\\kagglehub\\datasets\\himelsarder\\road-accident-survival-dataset\\versions\\1\n"
     ]
    }
   ],
   "source": [
    "path = kagglehub.dataset_download(\"himelsarder/road-accident-survival-dataset\")\n",
    "print(\"Path to dataset files:\", path)\n",
    "file_path = f\"{path}/accident.csv\" "
   ]
  },
  {
   "cell_type": "code",
   "execution_count": 10,
   "metadata": {},
   "outputs": [
    {
     "name": "stdout",
     "output_type": "stream",
     "text": [
      "   Age  Gender  Speed_of_Impact Helmet_Used Seatbelt_Used  Survived\n",
      "0   56  Female             27.0          No            No         1\n",
      "1   69  Female             46.0          No           Yes         1\n",
      "2   46    Male             46.0         Yes           Yes         0\n",
      "3   32    Male            117.0          No           Yes         0\n",
      "4   60  Female             40.0         Yes           Yes         0\n"
     ]
    }
   ],
   "source": [
    "df = pd.read_csv(file_path)\n",
    "\n",
    "df_cleaned = df.dropna(how='all')\n",
    "df_cleaned.to_csv(f\"{path}/cleaned_dataset.csv\", index=False)\n",
    "print(df_cleaned.head())"
   ]
  }
 ],
 "metadata": {
  "kernelspec": {
   "display_name": "Python 3",
   "language": "python",
   "name": "python3"
  },
  "language_info": {
   "codemirror_mode": {
    "name": "ipython",
    "version": 3
   },
   "file_extension": ".py",
   "mimetype": "text/x-python",
   "name": "python",
   "nbconvert_exporter": "python",
   "pygments_lexer": "ipython3",
   "version": "3.12.0"
  }
 },
 "nbformat": 4,
 "nbformat_minor": 2
}
