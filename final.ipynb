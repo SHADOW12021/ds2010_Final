{
 "cells": [
  {
   "cell_type": "code",
   "execution_count": 11,
   "metadata": {},
   "outputs": [],
   "source": [
    "import pandas as pd  \n",
    "import kagglehub\n",
    "import numpy as np\n",
    "from sklearn.model_selection import train_test_split\n",
    "from sklearn.preprocessing import StandardScaler, LabelEncoder\n",
    "from sklearn.svm import SVC\n",
    "from sklearn.ensemble import RandomForestClassifier\n",
    "from sklearn.metrics import accuracy_score, classification_report"
   ]
  },
  {
   "cell_type": "code",
   "execution_count": 9,
   "metadata": {},
   "outputs": [
    {
     "name": "stdout",
     "output_type": "stream",
     "text": [
      "Warning: Looks like you're using an outdated `kagglehub` version, please consider updating (latest version: 0.3.8)\n",
      "Path to dataset files: C:\\Users\\gsocc\\.cache\\kagglehub\\datasets\\himelsarder\\road-accident-survival-dataset\\versions\\1\n"
     ]
    }
   ],
   "source": [
    "path = kagglehub.dataset_download(\"himelsarder/road-accident-survival-dataset\")\n",
    "print(\"Path to dataset files:\", path)\n",
    "file_path = f\"{path}/accident.csv\" "
   ]
  },
  {
   "cell_type": "code",
   "execution_count": 17,
   "metadata": {},
   "outputs": [
    {
     "name": "stdout",
     "output_type": "stream",
     "text": [
      "   Age  Gender  Speed_of_Impact Helmet_Used Seatbelt_Used  Survived\n",
      "0   56  Female             27.0          No            No         1\n",
      "1   69  Female             46.0          No           Yes         1\n",
      "2   46    Male             46.0         Yes           Yes         0\n",
      "3   32    Male            117.0          No           Yes         0\n",
      "4   60  Female             40.0         Yes           Yes         0\n"
     ]
    }
   ],
   "source": [
    "df = pd.read_csv(file_path)\n",
    "\n",
    "df_cleaned = df.dropna()\n",
    "df_cleaned.to_csv(f\"{path}/cleaned_dataset.csv\", index=False)\n",
    "print(df_cleaned.head())"
   ]
  },
  {
   "cell_type": "code",
   "execution_count": 21,
   "metadata": {},
   "outputs": [],
   "source": [
    "label_encoders = {}\n",
    "categorical_columns = [\"Gender\", \"Helmet_Used\", \"Seatbelt_Used\"]\n",
    "\n",
    "for col in categorical_columns:\n",
    "    le = LabelEncoder()\n",
    "    df[col] = le.fit_transform(df[col])\n",
    "    label_encoders[col] = le  \n",
    "\n",
    "X = df[[\"Age\", \"Gender\", \"Speed_of_Impact\", \"Helmet_Used\", \"Seatbelt_Used\"]]\n",
    "y = df[\"Survived\"] \n",
    "\n",
    "X = X.dropna()\n",
    "y = y.loc[X.index]"
   ]
  },
  {
   "cell_type": "code",
   "execution_count": 22,
   "metadata": {},
   "outputs": [],
   "source": [
    "X_train, X_test, y_train, y_test = train_test_split(X, y, test_size=0.2, random_state=42)\n",
    "\n",
    "scaler = StandardScaler()\n",
    "X_train_scaled = scaler.fit_transform(X_train)\n",
    "X_test_scaled = scaler.transform(X_test)"
   ]
  },
  {
   "cell_type": "code",
   "execution_count": 23,
   "metadata": {},
   "outputs": [],
   "source": [
    "svm_model = SVC(kernel='rbf', C=1, gamma='scale')\n",
    "svm_model.fit(X_train_scaled, y_train)\n",
    "\n",
    "svm_train_pred = svm_model.predict(X_train_scaled)\n",
    "svm_test_pred = svm_model.predict(X_test_scaled)\n",
    "\n",
    "svm_train_acc = accuracy_score(y_train, svm_train_pred)\n",
    "svm_test_acc = accuracy_score(y_test, svm_test_pred)"
   ]
  },
  {
   "cell_type": "code",
   "execution_count": 24,
   "metadata": {},
   "outputs": [],
   "source": [
    "rf_model = RandomForestClassifier(n_estimators=100, random_state=42)\n",
    "rf_model.fit(X_train, y_train)\n",
    "\n",
    "rf_train_pred = rf_model.predict(X_train)\n",
    "rf_test_pred = rf_model.predict(X_test)\n",
    "\n",
    "rf_train_acc = accuracy_score(y_train, rf_train_pred)\n",
    "rf_test_acc = accuracy_score(y_test, rf_test_pred)"
   ]
  },
  {
   "cell_type": "code",
   "execution_count": 25,
   "metadata": {},
   "outputs": [
    {
     "name": "stdout",
     "output_type": "stream",
     "text": [
      "\n",
      "--- Model Performance ---\n",
      "SVM Training Accuracy: 0.6752\n",
      "SVM Test Accuracy: 0.5250\n",
      "Random Forest Training Accuracy: 1.0000\n",
      "Random Forest Test Accuracy: 0.5250\n"
     ]
    }
   ],
   "source": [
    "print(\"\\n--- Model Performance ---\")\n",
    "print(f\"SVM Training Accuracy: {svm_train_acc:.4f}\")\n",
    "print(f\"SVM Test Accuracy: {svm_test_acc:.4f}\")\n",
    "print(f\"Random Forest Training Accuracy: {rf_train_acc:.4f}\")\n",
    "print(f\"Random Forest Test Accuracy: {rf_test_acc:.4f}\")"
   ]
  },
  {
   "cell_type": "code",
   "execution_count": 26,
   "metadata": {},
   "outputs": [
    {
     "name": "stdout",
     "output_type": "stream",
     "text": [
      "\n",
      "--- Feature Importance (Random Forest) ---\n",
      "Age                0.422309\n",
      "Speed_of_Impact    0.420726\n",
      "Seatbelt_Used      0.057226\n",
      "Gender             0.055250\n",
      "Helmet_Used        0.044488\n",
      "dtype: float64\n"
     ]
    }
   ],
   "source": [
    "feature_importance = pd.Series(rf_model.feature_importances_, index=X.columns).sort_values(ascending=False)\n",
    "print(\"\\n--- Feature Importance (Random Forest) ---\")\n",
    "print(feature_importance)"
   ]
  },
  {
   "cell_type": "code",
   "execution_count": 27,
   "metadata": {},
   "outputs": [
    {
     "name": "stdout",
     "output_type": "stream",
     "text": [
      "\n",
      "--- SVM Classification Report ---\n",
      "              precision    recall  f1-score   support\n",
      "\n",
      "           0       0.67      0.35      0.46        23\n",
      "           1       0.46      0.76      0.58        17\n",
      "\n",
      "    accuracy                           0.53        40\n",
      "   macro avg       0.57      0.56      0.52        40\n",
      "weighted avg       0.58      0.53      0.51        40\n",
      "\n",
      "\n",
      "--- Random Forest Classification Report ---\n",
      "              precision    recall  f1-score   support\n",
      "\n",
      "           0       0.58      0.61      0.60        23\n",
      "           1       0.44      0.41      0.42        17\n",
      "\n",
      "    accuracy                           0.53        40\n",
      "   macro avg       0.51      0.51      0.51        40\n",
      "weighted avg       0.52      0.53      0.52        40\n",
      "\n"
     ]
    }
   ],
   "source": [
    "print(\"\\n--- SVM Classification Report ---\")\n",
    "print(classification_report(y_test, svm_test_pred))\n",
    "\n",
    "print(\"\\n--- Random Forest Classification Report ---\")\n",
    "print(classification_report(y_test, rf_test_pred))"
   ]
  }
 ],
 "metadata": {
  "kernelspec": {
   "display_name": "Python 3",
   "language": "python",
   "name": "python3"
  },
  "language_info": {
   "codemirror_mode": {
    "name": "ipython",
    "version": 3
   },
   "file_extension": ".py",
   "mimetype": "text/x-python",
   "name": "python",
   "nbconvert_exporter": "python",
   "pygments_lexer": "ipython3",
   "version": "3.12.0"
  }
 },
 "nbformat": 4,
 "nbformat_minor": 2
}
